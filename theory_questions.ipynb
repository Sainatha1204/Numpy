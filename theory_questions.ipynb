{
 "cells": [
  {
   "cell_type": "markdown",
   "id": "68f39289-c056-44b0-8bd3-ebb55b74512a",
   "metadata": {},
   "source": [
    "2. Compare and contrast np.mean() and np.average() functions in NumPy. When would you use one over the\n",
    "other?"
   ]
  },
  {
   "cell_type": "code",
   "execution_count": 2,
   "id": "aa1a686a-9bce-44ae-a800-77b3c39c0d6d",
   "metadata": {},
   "outputs": [
    {
     "name": "stdout",
     "output_type": "stream",
     "text": [
      "mean 2.5\n",
      "avereage 2.5\n",
      "weighted average 2.5714285714285716\n"
     ]
    }
   ],
   "source": [
    "import numpy as np\n",
    "a1=np.array([1,2,3,4])\n",
    "a2=np.array([1,2,3,1])\n",
    "\n",
    "print(\"mean\",np.mean(a1))\n",
    "print(\"avereage\",np.average(a1))\n",
    "print(\"weighted average\",np.average(a1,weights=a2))\n",
    "\n"
   ]
  },
  {
   "cell_type": "markdown",
   "id": "11ef7f41-65f5-4350-a689-6a677141b7c4",
   "metadata": {},
   "source": [
    "3.Describe the methods for reversing a NumPy array along different axes. Provide examples for 1D and 2D arrays."
   ]
  },
  {
   "cell_type": "code",
   "execution_count": 3,
   "id": "5508de1c-4846-4093-942a-aa9488781a19",
   "metadata": {},
   "outputs": [
    {
     "name": "stdout",
     "output_type": "stream",
     "text": [
      "[1 2 3 4 5]\n",
      "2D array\n",
      " [[1 2 3]\n",
      " [4 5 6]\n",
      " [7 8 9]]\n"
     ]
    }
   ],
   "source": [
    "arr1=np.array([1,2,3,4,5])\n",
    "arr2=np.array([[1,2,3],[4,5,6],[7,8,9]])\n",
    "print(arr1)\n",
    "\n",
    "print(\"2D array\\n\",arr2)"
   ]
  },
  {
   "cell_type": "code",
   "execution_count": 4,
   "id": "cb4c9880-8985-400e-91cd-fd85be9dad0d",
   "metadata": {},
   "outputs": [
    {
     "name": "stdout",
     "output_type": "stream",
     "text": [
      "array reversing using slicing\n",
      "1D Array reversing\n",
      " [5 4 3 2 1]\n",
      "2D array reversing in rows\n",
      " [[7 8 9]\n",
      " [4 5 6]\n",
      " [1 2 3]]\n",
      "2D array reversing in columns\n",
      " [[3 2 1]\n",
      " [6 5 4]\n",
      " [9 8 7]]\n",
      "2D array reversing \n",
      " [[9 8 7]\n",
      " [6 5 4]\n",
      " [3 2 1]]\n"
     ]
    }
   ],
   "source": [
    "print(\"array reversing using slicing\")\n",
    "print(\"1D Array reversing\\n\",arr1[::-1])\n",
    "print(\"2D array reversing in rows\\n\",arr2[::-1,:])\n",
    "print(\"2D array reversing in columns\\n\",arr2[:,::-1])\n",
    "print(\"2D array reversing \\n\",arr2[::-1,::-1])\n",
    "\n",
    "\n"
   ]
  },
  {
   "cell_type": "code",
   "execution_count": 8,
   "id": "18f6dc89-ed3a-40c5-a3f7-3d5d87332dc5",
   "metadata": {},
   "outputs": [
    {
     "name": "stdout",
     "output_type": "stream",
     "text": [
      "[[1 2 3]\n",
      " [4 5 6]\n",
      " [7 8 9]]\n",
      "1d\n",
      " [5 4 3 2 1]\n",
      "2d\n",
      " [[9 8 7]\n",
      " [6 5 4]\n",
      " [3 2 1]]\n"
     ]
    }
   ],
   "source": [
    "import numpy as np\n",
    "arr1=np.array([1,2,3,4,5])\n",
    "arr2=np.array([[1,2,3],[4,5,6],[7,8,9]])\n",
    "print(arr2)\n",
    "print(\"1d\\n\",np.flip(arr1))\n",
    "print(\"2d\\n\",np.flip(arr2))\n",
    "\n"
   ]
  },
  {
   "cell_type": "markdown",
   "id": "af0d61e5-665d-4423-84ef-97dc125440c0",
   "metadata": {},
   "source": [
    "4. How can you determine the data type of elements in a NumPy array? Discuss the importance of data types in memory management and performance."
   ]
  },
  {
   "cell_type": "code",
   "execution_count": 11,
   "id": "8fa1686e-8eca-4a1c-97e9-191d9b977c78",
   "metadata": {},
   "outputs": [
    {
     "name": "stdout",
     "output_type": "stream",
     "text": [
      "int64\n"
     ]
    }
   ],
   "source": [
    "k=np.array([1,2,3,4])\n",
    "print(k.dtype)"
   ]
  },
  {
   "cell_type": "markdown",
   "id": "bbdc0bf8-49d8-419b-9c27-df8e28f7d4ee",
   "metadata": {},
   "source": [
    "7. Compare vstack() and hstack() functions in NumPy. Provide examples demonstrating their usage and\n",
    "output."
   ]
  },
  {
   "cell_type": "code",
   "execution_count": 12,
   "id": "c53bd256-1b83-408f-be15-11d336a967b3",
   "metadata": {},
   "outputs": [
    {
     "name": "stdout",
     "output_type": "stream",
     "text": [
      "using hstack()\n",
      "[[ 1  2  3  7  8  9]\n",
      " [ 4  5  6 10 11 12]]\n",
      "using vstack()\n",
      "[[ 1  2  3]\n",
      " [ 4  5  6]\n",
      " [ 7  8  9]\n",
      " [10 11 12]]\n"
     ]
    }
   ],
   "source": [
    "arr1=np.array([[1,2,3],[4,5,6]])\n",
    "arr2=np.array([[7,8,9],[10,11,12]])\n",
    "print(f\"using hstack()\\n{np.hstack((arr1,arr2))}\")\n",
    "print(f\"using vstack()\\n{np.vstack((arr1,arr2))}\")"
   ]
  },
  {
   "cell_type": "markdown",
   "id": "0dd9471b-e7d6-4a69-8564-14806c9d572e",
   "metadata": {},
   "source": [
    "8. Explain the differences between fliplr() and flipud() methods in NumPy, including their effects on various\n",
    "array dimensions."
   ]
  },
  {
   "cell_type": "code",
   "execution_count": 13,
   "id": "72d232f2-f750-4d74-bf6d-bb78760295b7",
   "metadata": {},
   "outputs": [
    {
     "name": "stdout",
     "output_type": "stream",
     "text": [
      "fliplr passing array as 2D \n",
      "[[3 2 1]]\n",
      "flipud \n",
      "[3 2 1]\n"
     ]
    }
   ],
   "source": [
    "arr_1d = np.array([1, 2, 3])\n",
    "print(f\"fliplr passing array as 2D \\n{np.fliplr([arr_1d])}\")  \n",
    "print(f\"flipud \\n{np.flipud(arr_1d)}\")    "
   ]
  },
  {
   "cell_type": "code",
   "execution_count": 14,
   "id": "002543d9-30bf-47f2-a344-35a121774fb8",
   "metadata": {},
   "outputs": [
    {
     "name": "stdout",
     "output_type": "stream",
     "text": [
      "fliplr \n",
      "[[3 2 1]\n",
      " [6 5 4]]\n",
      "flipud \n",
      "[[4 5 6]\n",
      " [1 2 3]]\n"
     ]
    }
   ],
   "source": [
    "arr_2d=np.array([[1,2,3],[4,5,6]])\n",
    "print(f\"fliplr \\n{np.fliplr(arr_2d)}\")\n",
    "print(f\"flipud \\n{np.flipud(arr_2d)}\")"
   ]
  },
  {
   "cell_type": "code",
   "execution_count": 15,
   "id": "cb548803-c873-435e-8261-44e95bb55412",
   "metadata": {},
   "outputs": [
    {
     "name": "stdout",
     "output_type": "stream",
     "text": [
      "fliplr \n",
      "[[[ 7  8  9]\n",
      "  [ 4  5  6]\n",
      "  [ 1  2  3]]\n",
      "\n",
      " [[16 17 18]\n",
      "  [13 14 15]\n",
      "  [10 11 12]]]\n",
      "flipud \n",
      "[[[10 11 12]\n",
      "  [13 14 15]\n",
      "  [16 17 18]]\n",
      "\n",
      " [[ 1  2  3]\n",
      "  [ 4  5  6]\n",
      "  [ 7  8  9]]]\n"
     ]
    }
   ],
   "source": [
    "arr_3d=np.array([[[1, 2, 3],[4, 5, 6],[7, 8, 9]],[[10, 11, 12],[13, 14, 15],[16, 17, 18]]])\n",
    "print(f\"fliplr \\n{np.fliplr(arr_3d)}\")\n",
    "print(f\"flipud \\n{np.flipud(arr_3d)}\")"
   ]
  },
  {
   "cell_type": "markdown",
   "id": "1723e1a0-e3a3-423b-bf30-0e1dd354e07c",
   "metadata": {},
   "source": [
    "9. Discuss the functionality of the array_split() method in NumPy. How does it handle uneven splits?"
   ]
  },
  {
   "cell_type": "code",
   "execution_count": 16,
   "id": "27d57875-4eca-49c9-8708-8cfe068e90e7",
   "metadata": {},
   "outputs": [
    {
     "name": "stdout",
     "output_type": "stream",
     "text": [
      "split using sections \n",
      "[array([1, 2, 3]), array([4, 5]), array([6, 7])]\n",
      "split using index \n",
      "[array([1, 2]), array([3, 4, 5]), array([6, 7])]\n"
     ]
    }
   ],
   "source": [
    "import numpy as np\n",
    "\n",
    "arr = np.array([1, 2, 3, 4, 5, 6, 7])\n",
    "print(f\"split using sections \\n{np.array_split(arr, 3)}\")\n",
    "print(f\"split using index \\n{np.array_split(arr, [2,5])}\")\n"
   ]
  },
  {
   "cell_type": "code",
   "execution_count": 17,
   "id": "b222cb13-3c1f-4711-897b-422115cc0ed2",
   "metadata": {},
   "outputs": [
    {
     "name": "stdout",
     "output_type": "stream",
     "text": [
      "split along coulmns\n",
      "split using sections\n",
      "[array([[ 1,  2],\n",
      "       [ 5,  6],\n",
      "       [ 9, 10],\n",
      "       [13,  3],\n",
      "       [ 1, 44]]), array([[ 3,  4],\n",
      "       [ 7,  8],\n",
      "       [11, 12],\n",
      "       [ 4,  5],\n",
      "       [21,  4]])]\n",
      "split using index \n",
      "[array([[ 1],\n",
      "       [ 5],\n",
      "       [ 9],\n",
      "       [13],\n",
      "       [ 1]]), array([[ 2,  3],\n",
      "       [ 6,  7],\n",
      "       [10, 11],\n",
      "       [ 3,  4],\n",
      "       [44, 21]]), array([[ 4],\n",
      "       [ 8],\n",
      "       [12],\n",
      "       [ 5],\n",
      "       [ 4]])]\n",
      "split along rows\n",
      "split using sections\n",
      "[array([[ 1,  2,  3,  4],\n",
      "       [ 5,  6,  7,  8],\n",
      "       [ 9, 10, 11, 12]]), array([[13,  3,  4,  5],\n",
      "       [ 1, 44, 21,  4]])]\n",
      "split using index \n",
      "[array([[1, 2, 3, 4]]), array([[ 5,  6,  7,  8],\n",
      "       [ 9, 10, 11, 12]]), array([[13,  3,  4,  5],\n",
      "       [ 1, 44, 21,  4]])]\n"
     ]
    }
   ],
   "source": [
    "arr = np.array([[1, 2, 3, 4] ,[5, 6, 7,8],[9,10,11,12],[13,3,4,5],[1,44,21,4]])\n",
    "print(\"split along coulmns\")\n",
    "print(f\"split using sections\\n{np.array_split(arr, 2,axis=1)}\")\n",
    "print(f\"split using index \\n{np.array_split(arr, [1,3],axis=1)}\")\n",
    "print(\"split along rows\")\n",
    "print(f\"split using sections\\n{np.array_split(arr, 2,axis=0)}\")\n",
    "print(f\"split using index \\n{np.array_split(arr, [1,3],axis=0)}\")\n",
    "\n"
   ]
  },
  {
   "cell_type": "markdown",
   "id": "d424773d-3cd3-4bcd-a629-b3a519856a6b",
   "metadata": {},
   "source": [
    "10. Explain the concepts of vectorization and broadcasting in NumPy. How do they contribute to efficient array\n",
    "operations?"
   ]
  },
  {
   "cell_type": "code",
   "execution_count": 18,
   "id": "a9855277-b00a-4b03-aadb-f6615ae25dc1",
   "metadata": {},
   "outputs": [
    {
     "name": "stdout",
     "output_type": "stream",
     "text": [
      "[[2 2 2]\n",
      " [5 5 5]\n",
      " [8 8 8]]\n"
     ]
    }
   ],
   "source": [
    "#broadcasting\n",
    "a1 = np.array([[1, 2, 3], [4, 5, 6], [7, 8, 9]])\n",
    "a2 = np.array([1,0,-1])\n",
    "ans = a1 + a2\n",
    "print(ans)\n"
   ]
  },
  {
   "cell_type": "code",
   "execution_count": 19,
   "id": "28abb6be-8823-4aca-b8a3-bb51bfe15adc",
   "metadata": {},
   "outputs": [
    {
     "name": "stdout",
     "output_type": "stream",
     "text": [
      "multpying a1 by 2 \n",
      "[[ 2  4  6]\n",
      " [ 8 10 12]\n",
      " [14 16 18]]\n"
     ]
    }
   ],
   "source": [
    "#vectorization\n",
    "print(f\"multpying a1 by 2 \\n{a1*2}\")"
   ]
  },
  {
   "cell_type": "code",
   "execution_count": null,
   "id": "77f56da6-d1e6-485c-8e69-edf1b8094356",
   "metadata": {},
   "outputs": [],
   "source": []
  }
 ],
 "metadata": {
  "kernelspec": {
   "display_name": "Python 3 (ipykernel)",
   "language": "python",
   "name": "python3"
  },
  "language_info": {
   "codemirror_mode": {
    "name": "ipython",
    "version": 3
   },
   "file_extension": ".py",
   "mimetype": "text/x-python",
   "name": "python",
   "nbconvert_exporter": "python",
   "pygments_lexer": "ipython3",
   "version": "3.10.8"
  }
 },
 "nbformat": 4,
 "nbformat_minor": 5
}
