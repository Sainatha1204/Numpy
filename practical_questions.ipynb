{
 "cells": [
  {
   "cell_type": "markdown",
   "id": "26d52721-fb3a-498e-b80d-ba4c538f5a8c",
   "metadata": {},
   "source": [
    "1. Create a 3x3 NumPy array with random integers between 1 and 100. Then, interchange its rows and columns."
   ]
  },
  {
   "cell_type": "code",
   "execution_count": 2,
   "id": "231de900-ff2a-4797-80b7-19956e0dff35",
   "metadata": {},
   "outputs": [
    {
     "name": "stdout",
     "output_type": "stream",
     "text": [
      "orginal array\n",
      "[[47 49 28]\n",
      " [40 53 44]\n",
      " [63 94 92]]\n",
      "Transpose array\n",
      "[[47 40 63]\n",
      " [49 53 94]\n",
      " [28 44 92]]\n"
     ]
    }
   ],
   "source": [
    "import numpy as np\n",
    "import random\n",
    "arr=np.random.randint(1,101,(3,3))\n",
    "print(f\"orginal array\\n{arr}\")\n",
    "print(f\"Transpose array\\n{arr.T}\")"
   ]
  },
  {
   "cell_type": "markdown",
   "id": "9383f66f-4743-4918-96cb-383fa49fb3a9",
   "metadata": {},
   "source": [
    "2. Generate a 1D NumPy array with 10 elements. Reshape it into a 2x5 array, then into a 5x2 array."
   ]
  },
  {
   "cell_type": "code",
   "execution_count": 3,
   "id": "23c60cb1-4ab8-4147-9241-bca90a52d0be",
   "metadata": {},
   "outputs": [
    {
     "name": "stdout",
     "output_type": "stream",
     "text": [
      "orginal array\n",
      "[16 12 15  2  6 14 19 14 15  1]\n",
      "reshaped to 2*5\n",
      "[[16 12 15  2  6]\n",
      " [14 19 14 15  1]]\n",
      "reshaped to 5*2\n",
      "[[16 12]\n",
      " [15  2]\n",
      " [ 6 14]\n",
      " [19 14]\n",
      " [15  1]]\n"
     ]
    }
   ],
   "source": [
    "arr1=np.random.randint(1,21,size=10)\n",
    "print(f\"orginal array\\n{arr1}\")\n",
    "print(f\"reshaped to 2*5\\n{np.reshape(arr1,(2,5))}\")\n",
    "print(f\"reshaped to 5*2\\n{np.reshape(arr1,(5,2))}\")\n",
    "\n"
   ]
  },
  {
   "cell_type": "markdown",
   "id": "b5715e21-4e4b-4186-b9e9-8ee049b8f51f",
   "metadata": {},
   "source": [
    "3.Create a 4x4 NumPy array with random float values. Add a border of zeros around it, resulting in a 6x6 array."
   ]
  },
  {
   "cell_type": "code",
   "execution_count": 4,
   "id": "adb87c72-8f64-4723-afba-c451b3c248f4",
   "metadata": {},
   "outputs": [
    {
     "name": "stdout",
     "output_type": "stream",
     "text": [
      "[[0.         0.         0.         0.         0.         0.        ]\n",
      " [0.         3.84056287 3.76072116 1.63227529 2.29707688 0.        ]\n",
      " [0.         1.82954334 2.09974285 3.8792809  2.2510328  0.        ]\n",
      " [0.         2.08273407 2.79888788 1.39320991 2.82363548 0.        ]\n",
      " [0.         3.2024487  1.66484458 1.37437018 2.24237236 0.        ]\n",
      " [0.         0.         0.         0.         0.         0.        ]]\n"
     ]
    }
   ],
   "source": [
    "arr3=np.random.uniform(1,4,(4,4))\n",
    "arr4=np.array([0,0,0,0])\n",
    "arr5=np.reshape(arr4,(4,1))\n",
    "arr6=[0,0,0,0,0,0]\n",
    "ans_hori=np.hstack((np.hstack((arr5,arr3)),arr5))\n",
    "ans=np.vstack((np.vstack((arr6,ans_hori)),arr6))\n",
    "print(ans)"
   ]
  },
  {
   "cell_type": "markdown",
   "id": "38240655-e6eb-48ab-b641-aa9a328f7a47",
   "metadata": {},
   "source": [
    "4. Using NumPy, create an array of integers from 10 to 60 with a step of 5."
   ]
  },
  {
   "cell_type": "code",
   "execution_count": 5,
   "id": "a58f27d2-6ef6-4ab0-8944-f089817aa81a",
   "metadata": {},
   "outputs": [
    {
     "name": "stdout",
     "output_type": "stream",
     "text": [
      "array of integers from 10 to 60\n",
      "[10 15 20 25 30 35 40 45 50 55 60]\n"
     ]
    }
   ],
   "source": [
    "arr7 = np.arange(10, 61, 5)\n",
    "print(f\"array of integers from 10 to 60\\n{arr7}\")"
   ]
  },
  {
   "cell_type": "markdown",
   "id": "83dfa164-26c6-4a1f-bfd1-467eaca11e81",
   "metadata": {},
   "source": [
    "5. Create a NumPy array of strings ['python', 'numpy', 'pandas']. Apply different case transformations\n",
    "(uppercase, lowercase, title case, etc.) to each element."
   ]
  },
  {
   "cell_type": "code",
   "execution_count": 6,
   "id": "6dbca52f-7e42-421e-9840-2e598d9bd3d5",
   "metadata": {},
   "outputs": [
    {
     "name": "stdout",
     "output_type": "stream",
     "text": [
      "uppercase \n",
      "['PYTHON' 'NUMPY' 'PANDAS']\n",
      "lowercase \n",
      "['python' 'numpy' 'pandas']\n",
      "titlecase \n",
      "['Python' 'Numpy' 'Pandas']\n",
      "captitalize case \n",
      "['Python' 'Numpy' 'Pandas']\n"
     ]
    }
   ],
   "source": [
    "arr8=np.array(['python', 'numpy', 'pandas'])\n",
    "print(f\"uppercase \\n{np.char.upper(arr8)}\")\n",
    "print(f\"lowercase \\n{np.char.lower(arr8)}\")\n",
    "print(f\"titlecase \\n{np.char.title(arr8)}\")\n",
    "print(f\"captitalize case \\n{np.char.capitalize(arr8)}\")"
   ]
  },
  {
   "cell_type": "markdown",
   "id": "367be33a-91f0-430b-b26a-1ec2984bab85",
   "metadata": {},
   "source": [
    "6. Generate a NumPy array of words. Insert a space between each character of every word in the array"
   ]
  },
  {
   "cell_type": "code",
   "execution_count": 9,
   "id": "22962c73-f3dc-408b-86c7-6b2c33f21c54",
   "metadata": {},
   "outputs": [
    {
     "name": "stdout",
     "output_type": "stream",
     "text": [
      "Array with spaces between characters:\n",
      "['p y t h o n' 'n u m p y' 'p a n d a s']\n"
     ]
    }
   ],
   "source": [
    "def insert_spaces(word):\n",
    "    return ' '.join(word)\n",
    "vectorized_insert_spaces = np.vectorize(insert_spaces)\n",
    "spaced_array = vectorized_insert_spaces(arr8)\n",
    "print(f\"Array with spaces between characters:\\n{spaced_array}\")\n"
   ]
  },
  {
   "cell_type": "markdown",
   "id": "f85a44d5-67f5-462d-8fdf-c6871c917438",
   "metadata": {},
   "source": [
    "7. Create two 2D NumPy arrays and perform element-wise addition, subtraction, multiplication, and division."
   ]
  },
  {
   "cell_type": "code",
   "execution_count": 10,
   "id": "df7b5721-88cf-48f1-bba2-c23fe7275013",
   "metadata": {},
   "outputs": [
    {
     "name": "stdout",
     "output_type": "stream",
     "text": [
      "array1\n",
      "[[1 2 3]\n",
      " [4 5 6]]\n",
      "array2\n",
      "[[ 7  8  9]\n",
      " [10 11 12]]\n",
      "addition\n",
      "[[ 8 10 12]\n",
      " [14 16 18]]\n",
      "substraction\n",
      "[[6 6 6]\n",
      " [6 6 6]]\n",
      "multiplication\n",
      "[[ 7 16 27]\n",
      " [40 55 72]]\n",
      "division\n",
      "[[7.  4.  3. ]\n",
      " [2.5 2.2 2. ]]\n"
     ]
    }
   ],
   "source": [
    "import numpy as np\n",
    "\n",
    "arr_1=np.array([[1,2,3],[4,5,6]])\n",
    "arr_2=np.array([[7,8,9],[10,11,12]])\n",
    "print(f\"array1\\n{arr_1}\")\n",
    "print(f\"array2\\n{arr_2}\")\n",
    "print(f\"addition\\n{arr_2+arr_1}\")\n",
    "print(f\"substraction\\n{arr_2-arr_1}\")\n",
    "print(f\"multiplication\\n{arr_2*arr_1}\")\n",
    "print(f\"division\\n{arr_2/arr_1}\")"
   ]
  },
  {
   "cell_type": "markdown",
   "id": "d99d8ff3-f09d-4422-9656-553a359a6dbf",
   "metadata": {},
   "source": [
    "8. Use NumPy to create a 5x5 identity matrix, then extract its diagonal elements.\n"
   ]
  },
  {
   "cell_type": "code",
   "execution_count": 11,
   "id": "6e25cba3-82fd-4321-a10b-754529c713d3",
   "metadata": {},
   "outputs": [
    {
     "name": "stdout",
     "output_type": "stream",
     "text": [
      "diagnaol elements are[1. 1. 1. 1. 1.]\n"
     ]
    }
   ],
   "source": [
    "import numpy as np\n",
    "arr_4=np.eye(5)\n",
    "elements=np.diag(arr_4)\n",
    "print(f\"diagnaol elements are{elements}\")"
   ]
  },
  {
   "cell_type": "markdown",
   "id": "adb413b5-d03f-45a9-85e6-2fdf0f594d66",
   "metadata": {},
   "source": [
    "9. Generate a NumPy array of 100 random integers between 0 and 1000. Find and display all prime numbers in\n",
    "this array."
   ]
  },
  {
   "cell_type": "code",
   "execution_count": 12,
   "id": "ad8b2a34-d8eb-4ae7-ae60-8f9df237cb8f",
   "metadata": {},
   "outputs": [
    {
     "name": "stdout",
     "output_type": "stream",
     "text": [
      "given array\n",
      " [183 296 111 788 618 722 132  31 770 418 173 265 642   5 353 975 566 186\n",
      " 306 401 953 533 886 350 100 814 342 926 806 928 851 444 596 995 946 393\n",
      " 979  49 479 809 156 485 344 755 792 508 522 338 928 585 338 174 260 724\n",
      " 949 615 227 814 394 888 740 984 411 982 285 428 358 464 320 437 912 374\n",
      " 807 762 647 772 875  47 344 972 960  44 179  17 621 577 849 701 106 431\n",
      "  69 709 574 733 107 613 463 356 887 477]\n",
      "primes are \n",
      "[31, 173, 5, 353, 401, 953, 479, 809, 227, 647, 47, 179, 17, 577, 701, 431, 709, 733, 107, 613, 463, 887]\n"
     ]
    }
   ],
   "source": [
    "import numpy as np\n",
    "import random\n",
    "def prime(n):\n",
    "    if n <= 1:\n",
    "        return False\n",
    "    if n <= 3:\n",
    "        return True\n",
    "    if n % 2 == 0 or n % 3 == 0:\n",
    "        return False\n",
    "    i = 5\n",
    "    while i * i <= n:\n",
    "        if n % i == 0 or n % (i + 2) == 0:\n",
    "            return False\n",
    "        i += 6\n",
    "    return True\n",
    "arr=np.random.randint(1,1001,size=100)\n",
    "primes=[x for x in arr if prime(x)]\n",
    "print(f\"given array\\n {arr}\")\n",
    "print(f\"primes are \\n{primes}\")\n",
    "\n",
    "\n",
    "    "
   ]
  },
  {
   "cell_type": "markdown",
   "id": "9b740c33-1916-4503-8081-d393cedaa228",
   "metadata": {},
   "source": [
    "10. Create a NumPy array representing daily temperatures for a month. Calculate and display the weekly\n",
    "averages."
   ]
  },
  {
   "cell_type": "code",
   "execution_count": 13,
   "id": "2eacd6ff-4636-4eca-b80f-7fbed695b44a",
   "metadata": {},
   "outputs": [
    {
     "name": "stdout",
     "output_type": "stream",
     "text": [
      "1 week average is 18.428571428571427\n",
      "2 week average is 18.428571428571427\n",
      "3 week average is 15.714285714285714\n",
      "4 week average is 22.0\n"
     ]
    }
   ],
   "source": [
    "daily_temp = np.random.randint(10, 30, size=28)  \n",
    "weekly_temp = np.array_split(daily_temp, 4)\n",
    "for i in range(len(weekly_temp)):\n",
    "    print(f\"{i+1} week average is {np.mean(weekly_temp[i])}\")\n"
   ]
  },
  {
   "cell_type": "code",
   "execution_count": null,
   "id": "a16ce86a-a6bb-4261-b48b-b2ba5f109a85",
   "metadata": {},
   "outputs": [],
   "source": []
  }
 ],
 "metadata": {
  "kernelspec": {
   "display_name": "Python 3 (ipykernel)",
   "language": "python",
   "name": "python3"
  },
  "language_info": {
   "codemirror_mode": {
    "name": "ipython",
    "version": 3
   },
   "file_extension": ".py",
   "mimetype": "text/x-python",
   "name": "python",
   "nbconvert_exporter": "python",
   "pygments_lexer": "ipython3",
   "version": "3.10.8"
  }
 },
 "nbformat": 4,
 "nbformat_minor": 5
}
